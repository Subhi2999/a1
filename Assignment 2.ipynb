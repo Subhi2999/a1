{
 "cells": [
  {
   "cell_type": "code",
   "execution_count": 33,
   "metadata": {},
   "outputs": [
    {
     "name": "stdout",
     "output_type": "stream",
     "text": [
      "Enter the list elements\n",
      "4 5 6 7 8 9\n",
      "39\n"
     ]
    }
   ],
   "source": [
    "#Task 1\n",
    "#1.1\n",
    "def myreduce(l):\n",
    "    sum=0\n",
    "    for i in l:\n",
    "        sum=sum+i\n",
    "    return sum\n",
    "l=[]\n",
    "print(\"Enter the list elements\")\n",
    "n=input()\n",
    "l=list(map(int,n.split(\" \")))\n",
    "print(myreduce(l))  "
   ]
  },
  {
   "cell_type": "code",
   "execution_count": 34,
   "metadata": {},
   "outputs": [
    {
     "name": "stdout",
     "output_type": "stream",
     "text": [
      "Enter the list elements\n",
      "1 2 3 4 5\n",
      "[2, 4]\n"
     ]
    }
   ],
   "source": [
    "#1.2\n",
    "def myfilter(l):\n",
    "    m=[]\n",
    "    for i in l:\n",
    "        if(i%2==0):\n",
    "            m.append(i)\n",
    "    return m\n",
    "l=[]\n",
    "print(\"Enter the list elements\")\n",
    "n=input()\n",
    "l=list(map(int,n.split(\" \")))\n",
    "print(myfilter(l))"
   ]
  },
  {
   "cell_type": "code",
   "execution_count": 35,
   "metadata": {},
   "outputs": [
    {
     "data": {
      "text/plain": [
       "['A', 'C', 'A', 'D', 'G', 'I', 'L', 'D']"
      ]
     },
     "execution_count": 35,
     "metadata": {},
     "output_type": "execute_result"
    }
   ],
   "source": [
    "#2\n",
    "a='ACADGILD'\n",
    "[i for i in a]"
   ]
  },
  {
   "cell_type": "code",
   "execution_count": 36,
   "metadata": {},
   "outputs": [
    {
     "data": {
      "text/plain": [
       "[['x', 'xx', 'xxx', 'xxxx'],\n",
       " ['y', 'yy', 'yyy', 'yyyy'],\n",
       " ['z', 'zz', 'zzz', 'zzzz']]"
      ]
     },
     "execution_count": 36,
     "metadata": {},
     "output_type": "execute_result"
    }
   ],
   "source": [
    "a='xyz'\n",
    "[[q*int(i) for i in '1234'] for q in a]"
   ]
  },
  {
   "cell_type": "code",
   "execution_count": 37,
   "metadata": {},
   "outputs": [
    {
     "data": {
      "text/plain": [
       "['x', 'y', 'z', 'xx', 'yy', 'zz', 'xxx', 'yyy', 'zzz', 'xxxx', 'yyyy', 'zzzz']"
      ]
     },
     "execution_count": 37,
     "metadata": {},
     "output_type": "execute_result"
    }
   ],
   "source": [
    "a='xyz'\n",
    "[q*int(i) for i in '1234' for q in a]"
   ]
  },
  {
   "cell_type": "code",
   "execution_count": 38,
   "metadata": {},
   "outputs": [
    {
     "data": {
      "text/plain": [
       "[[2], [3], [4], [3], [4], [5], [4], [5], [6]]"
      ]
     },
     "execution_count": 38,
     "metadata": {},
     "output_type": "execute_result"
    }
   ],
   "source": [
    "[[x+y] for x in range(2,5)for y in range(3)]"
   ]
  },
  {
   "cell_type": "code",
   "execution_count": 39,
   "metadata": {},
   "outputs": [
    {
     "data": {
      "text/plain": [
       "[[2, 3, 4, 5], [3, 4, 5, 6], [4, 5, 6, 7], [5, 6, 7, 8]]"
      ]
     },
     "execution_count": 39,
     "metadata": {},
     "output_type": "execute_result"
    }
   ],
   "source": [
    "[[x+y for x in range(2,6)] for y in range(4)]"
   ]
  },
  {
   "cell_type": "code",
   "execution_count": 40,
   "metadata": {},
   "outputs": [
    {
     "data": {
      "text/plain": [
       "[(1, 1), (1, 2), (1, 3), (2, 1), (2, 2), (2, 3), (3, 1), (3, 2), (3, 3)]"
      ]
     },
     "execution_count": 40,
     "metadata": {},
     "output_type": "execute_result"
    }
   ],
   "source": [
    "[(x,y) for x in range(1,4) for y in range (1,4)]"
   ]
  },
  {
   "cell_type": "code",
   "execution_count": 43,
   "metadata": {},
   "outputs": [
    {
     "name": "stdout",
     "output_type": "stream",
     "text": [
      "Enter the list elements\n",
      "Python JAVA C \n",
      "The longest word in the list is  Python\n"
     ]
    }
   ],
   "source": [
    "#3\n",
    "def longestword(l):\n",
    "    max=0\n",
    "    for i in l:\n",
    "        if(max<len(i)):\n",
    "            max=len(i)\n",
    "            maxword=i\n",
    "    return maxword\n",
    "print(\"Enter the list elements\")\n",
    "n=input()\n",
    "l=n.split(\" \")\n",
    "print(\"The longest word in the list is \",longestword(l))\n"
   ]
  },
  {
   "cell_type": "code",
   "execution_count": 1,
   "metadata": {},
   "outputs": [
    {
     "name": "stdout",
     "output_type": "stream",
     "text": [
      "Enter 1st side5.0\n",
      "Enter 2nd side5.0\n",
      "Enter 3rd side5.0\n",
      "Area is 10.825317547305483\n"
     ]
    }
   ],
   "source": [
    "#Task 2\n",
    "#1.1\n",
    "class Triangle:\n",
    "    def user_input(self):\n",
    "        self.a=float(input(\"Enter 1st side\"))\n",
    "        self.b=float(input(\"Enter 2nd side\"))\n",
    "        self.c=float(input(\"Enter 3rd side\"))\n",
    "class Area(Triangle):\n",
    "    def calculate(self):\n",
    "        self.s=(self.a+self.b+self.c)/2.0\n",
    "        self.ar=(self.s*(self.s-self.a)*(self.s-self.b)*(self.s-self.c))**0.5\n",
    "        print(\"Area is\",self.ar)\n",
    "ob=Area()\n",
    "ob.user_input()\n",
    "ob.calculate()"
   ]
  },
  {
   "cell_type": "code",
   "execution_count": 1,
   "metadata": {},
   "outputs": [
    {
     "name": "stdout",
     "output_type": "stream",
     "text": [
      "Enter a sentence Don't let science to become the master of man.\n",
      "Enter an length of the word 5\n",
      "Words having length greater or equal to 5  are :\n",
      "Don't\n",
      "science\n",
      "become\n",
      "master\n"
     ]
    }
   ],
   "source": [
    "#1.2\n",
    "class flt:\n",
    "    def  filter_long_words(self):\n",
    "        l=[]\n",
    "        s=input(\"Enter a sentence \")\n",
    "        l=s.split(\" \")\n",
    "        n=int(input(\"Enter an length of the word \"))\n",
    "        print(\"Words having length greater or equal to\",n,\" are :\")\n",
    "        for i in l:\n",
    "            if(len(i)>=n):\n",
    "                print(i)\n",
    "        \n",
    "ob=flt()\n",
    "ob.filter_long_words()"
   ]
  },
  {
   "cell_type": "code",
   "execution_count": 3,
   "metadata": {},
   "outputs": [
    {
     "name": "stdout",
     "output_type": "stream",
     "text": [
      "Enter a sentence a ab abc abcd\n",
      "[1, 2, 3, 4]\n"
     ]
    }
   ],
   "source": [
    "#2.1\n",
    "class py:\n",
    "    def word_len(self,s):\n",
    "        m=[]\n",
    "        for i in s:\n",
    "            m.append(len(i))\n",
    "        print(m)\n",
    "n=input(\"Enter a sentence \")\n",
    "m=[]\n",
    "m=n.split(\" \")\n",
    "ob=py()\n",
    "ob.word_len(m)"
   ]
  },
  {
   "cell_type": "code",
   "execution_count": 5,
   "metadata": {},
   "outputs": [
    {
     "name": "stdout",
     "output_type": "stream",
     "text": [
      "Enter a character I\n",
      "Result is  True\n"
     ]
    }
   ],
   "source": [
    "#2.2\n",
    "class test:\n",
    "    def check(self,n):\n",
    "        vowels='aeiouAEIOU'\n",
    "        if(n in vowels):\n",
    "            return True\n",
    "        else:\n",
    "            return False\n",
    "n=\"\"\n",
    "while(len(n)!=1):\n",
    "    n=input(\"Enter a character \")\n",
    "ob=test()\n",
    "a=ob.check(n)\n",
    "print(\"Result is \",a)"
   ]
  },
  {
   "cell_type": "code",
   "execution_count": null,
   "metadata": {},
   "outputs": [],
   "source": []
  }
 ],
 "metadata": {
  "kernelspec": {
   "display_name": "Python 3",
   "language": "python",
   "name": "python3"
  },
  "language_info": {
   "codemirror_mode": {
    "name": "ipython",
    "version": 3
   },
   "file_extension": ".py",
   "mimetype": "text/x-python",
   "name": "python",
   "nbconvert_exporter": "python",
   "pygments_lexer": "ipython3",
   "version": "3.7.0"
  }
 },
 "nbformat": 4,
 "nbformat_minor": 2
}
